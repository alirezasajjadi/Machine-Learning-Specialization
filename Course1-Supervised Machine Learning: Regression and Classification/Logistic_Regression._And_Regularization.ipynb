{
 "cells": [
  {
   "cell_type": "markdown",
   "id": "a0ead785-3dc3-426f-b900-d9b8de05359a",
   "metadata": {},
   "source": [
    "## 1 - Packages \n"
   ]
  },
  {
   "cell_type": "code",
   "execution_count": 1,
   "id": "2acf3027-3e71-49e1-a4e5-6b5a5ce68f90",
   "metadata": {},
   "outputs": [],
   "source": [
    "import numpy as np\n",
    "import matplotlib.pyplot as plt\n",
    "import copy\n",
    "import math\n",
    "\n",
    "%matplotlib inline"
   ]
  },
  {
   "cell_type": "markdown",
   "id": "448be995-1452-4a06-be02-c393cc805240",
   "metadata": {},
   "source": [
    "<a name=\"2\"></a>\n",
    "## 2 - Logistic Regression\n",
    "\n",
    "a logistic regression model to predict whether a student gets admitted into a university.\n",
    "\n",
    "<a name=\"2.1\"></a>\n",
    "### 2.1 Problem Statement\n",
    "\n",
    "Suppose that you are the administrator of a university department and you want to determine each applicant’s chance of admission based on their results on two exams. \n",
    "* For each training example, you have the applicant’s scores on two exams and the admissions decision. \n",
    "* Your task is to build a classification model that estimates an applicant’s probability of admission based on the scores from those two exams. \n",
    "\n",
    "<a name=\"2.2\"></a>\n",
    "### 2.2 Loading and visualizing the data\n",
    "  - `X_train` contains exam scores on two exams for a student\n",
    "  - `y_train` is the admission decision \n",
    "      - `y_train = 1` if the student was admitted \n",
    "      - `y_train = 0` if the student was not admitted \n",
    "  - Both `X_train` and `y_train` are numpy arrays.\n"
   ]
  },
  {
   "cell_type": "code",
   "execution_count": 2,
   "id": "2b06df4c-bf28-4165-bca4-2a5bcf13f1ba",
   "metadata": {},
   "outputs": [],
   "source": [
    "data = np.loadtxt('ex2data1.txt', delimiter=',')\n",
    "X_train = data[:,:2]\n",
    "y_train = data[:,2]"
   ]
  },
  {
   "cell_type": "code",
   "execution_count": 3,
   "id": "1bc0de48-631c-4f6a-b000-54a273c69fbc",
   "metadata": {},
   "outputs": [
    {
     "name": "stdout",
     "output_type": "stream",
     "text": [
      "First five element of X_train:\n",
      " [[34.62365962 78.02469282]\n",
      " [30.28671077 43.89499752]\n",
      " [35.84740877 72.90219803]\n",
      " [60.18259939 86.3085521 ]\n",
      " [79.03273605 75.34437644]]\n",
      "Type of X_train is:  <class 'numpy.ndarray'>\n"
     ]
    }
   ],
   "source": [
    "print(\"First five element of X_train:\\n\", X_train[:5])\n",
    "print(\"Type of X_train is: \", type(X_train))"
   ]
  },
  {
   "cell_type": "code",
   "execution_count": 4,
   "id": "c9473dde-d4dd-4124-93e1-060393175ab1",
   "metadata": {},
   "outputs": [
    {
     "name": "stdout",
     "output_type": "stream",
     "text": [
      "First five element of X_train:\n",
      " [0. 0. 0. 1. 1.]\n",
      "Type of X_train is:  <class 'numpy.ndarray'>\n"
     ]
    }
   ],
   "source": [
    "print(\"First five element of X_train:\\n\", y_train[:5])\n",
    "print(\"Type of X_train is: \", type(y_train))"
   ]
  },
  {
   "cell_type": "code",
   "execution_count": 5,
   "id": "76b8b512-4706-4951-af25-c4383f600b89",
   "metadata": {},
   "outputs": [
    {
     "name": "stdout",
     "output_type": "stream",
     "text": [
      "Shape of X_train is:  (100, 2)\n",
      "Shape of y_train is:  (100,)\n"
     ]
    }
   ],
   "source": [
    "print(\"Shape of X_train is: \", X_train.shape)\n",
    "print(\"Shape of y_train is: \", y_train.shape)"
   ]
  },
  {
   "cell_type": "markdown",
   "id": "7bf48552-a048-4804-9053-b46e88fbc325",
   "metadata": {},
   "source": [
    "#### Visualize data"
   ]
  },
  {
   "cell_type": "code",
   "execution_count": 6,
   "id": "7e0f1590-e8f4-4365-9489-18e5892e7fec",
   "metadata": {},
   "outputs": [
    {
     "data": {
      "image/png": "[encoded data removed]",
      "text/plain": [
       "<Figure size 640x480 with 1 Axes>"
      ]
     },
     "metadata": {},
     "output_type": "display_data"
    }
   ],
   "source": [
    "positive = y_train==1\n",
    "negative = y_train==0\n",
    "\n",
    "plt.plot(X_train[positive, 0], X_train[positive, 1], 'k+', label='y=1')\n",
    "plt.plot(X_train[negative, 0], X_train[negative, 1], 'yo', label='y=0')\n",
    "\n",
    "plt.xlabel('Exam 1 score')\n",
    "plt.ylabel('Exam 2 score')\n",
    "plt.legend(loc='upper right')\n",
    "plt.show()"
   ]
  },
  {
   "cell_type": "markdown",
   "id": "16f5f280-5c28-4a3d-8db6-3cd043e898b0",
   "metadata": {},
   "source": [
    "### 2.3  Sigmoid function\n",
    "\n",
    "For logistic regression, the model is represented as\n",
    "\n",
    "$$ f_{\\mathbf{w},b}(x) = g(\\mathbf{w}\\cdot \\mathbf{x} + b)$$\n",
    "where function $g$ is the sigmoid function. The sigmoid function is defined as:\n",
    "\n",
    "$$g(z) = \\frac{1}{1+e^{-z}}$$\n",
    "\n",
    "Let's implement the sigmoid function first."
   ]
  },
  {
   "cell_type": "code",
   "execution_count": 7,
   "id": "aea9d816-4708-4272-a791-bb2792a90868",
   "metadata": {},
   "outputs": [],
   "source": [
    "def sigmoid(z):\n",
    "    g_z = 1 / (1+np.exp(-z))\n",
    "    return g_z"
   ]
  },
  {
   "cell_type": "code",
   "execution_count": 8,
   "id": "b81d35b2-80bf-403c-8db5-369e27331b63",
   "metadata": {},
   "outputs": [
    {
     "name": "stdout",
     "output_type": "stream",
     "text": [
      "sigmoid(0) = 0.5\n",
      "sigmoid([ -1, 0, 1, 2]) = [0.26894142 0.5        0.73105858 0.88079708]\n"
     ]
    }
   ],
   "source": [
    "# test sigmiod function\n",
    "value = 0\n",
    "\n",
    "print (f\"sigmoid({value}) = {sigmoid(value)}\")\n",
    "\n",
    "print (\"sigmoid([ -1, 0, 1, 2]) = \" + str(sigmoid(np.array([-1, 0, 1, 2]))))"
   ]
  },
  {
   "cell_type": "markdown",
   "id": "79cf5def-771e-4759-9b20-6433eb33d73b",
   "metadata": {},
   "source": [
    "### 2.4 Cost function for logistic regression\n",
    "\n",
    "For logistic regression, the cost function is of the form \n",
    "\n",
    "$$ J(\\mathbf{w},b) = \\frac{1}{m}\\sum_{i=0}^{m-1} \\left[ loss(f_{\\mathbf{w},b}(\\mathbf{x}^{(i)}), y^{(i)}) \\right] \\tag{1}$$\n",
    "\n",
    "where\n",
    "* m is the number of training examples in the dataset\n",
    "\n",
    "\n",
    "* $loss(f_{\\mathbf{w},b}(\\mathbf{x}^{(i)}), y^{(i)})$ is the cost for a single data point, which is - \n",
    "\n",
    "    $$loss(f_{\\mathbf{w},b}(\\mathbf{x}^{(i)}), y^{(i)}) = (-y^{(i)} \\log\\left(f_{\\mathbf{w},b}\\left( \\mathbf{x}^{(i)} \\right) \\right) - \\left( 1 - y^{(i)}\\right) \\log \\left( 1 - f_{\\mathbf{w},b}\\left( \\mathbf{x}^{(i)} \\right) \\right) \\tag{2}$$\n",
    "    \n",
    "    \n",
    "*  $f_{\\mathbf{w},b}(\\mathbf{x}^{(i)})$ is the model's prediction, while $y^{(i)}$, which is the actual label\n",
    "\n",
    "*  $f_{\\mathbf{w},b}(\\mathbf{x}^{(i)}) = g(\\mathbf{w} \\cdot \\mathbf{x^{(i)}} + b)$ where function $g$ is the sigmoid function."
   ]
  },
  {
   "cell_type": "code",
   "execution_count": 9,
   "id": "f523b805-ce7a-43bc-bf24-8944adc1bdbb",
   "metadata": {},
   "outputs": [],
   "source": [
    "def compute_cost(X, y, w, b):\n",
    "    \"\"\"\n",
    "    Computes the cost over all examples\n",
    "    Args:\n",
    "      X : (ndarray Shape (m,n)) data, m examples by n features\n",
    "      y : (ndarray Shape (m,))  target value \n",
    "      w : (ndarray Shape (n,))  values of parameters of the model      \n",
    "      b : (scalar)              value of bias parameter of the model\n",
    "    Returns:\n",
    "      total_cost : (scalar) cost \n",
    "    \"\"\"\n",
    "\n",
    "    m,n = X.shape\n",
    "    cost = 0\n",
    "    for i in range(m):\n",
    "        z_i = np.dot(X[i],w)+b\n",
    "        f_xi = sigmoid(z_i)\n",
    "\n",
    "        loss_i = ((-y[i])*np.log(f_xi)) - ((1-y[i])*np.log(1-f_xi))\n",
    "        \n",
    "        cost += loss_i\n",
    "\n",
    "    cost = cost / m\n",
    "    return cost"
   ]
  },
  {
   "cell_type": "markdown",
   "id": "eccdc75f-3f0b-4db9-8386-b66dc59e3e8e",
   "metadata": {},
   "source": [
    "Check compute_cost function with different initial $w,b$"
   ]
  },
  {
   "cell_type": "code",
   "execution_count": 10,
   "id": "2fdefc85-717a-4fbd-9315-89e4391aa742",
   "metadata": {},
   "outputs": [
    {
     "name": "stdout",
     "output_type": "stream",
     "text": [
      "Cost at initial w and b (zeros): 0.693\n"
     ]
    }
   ],
   "source": [
    "m,n = X_train.shape\n",
    "\n",
    "initial_w = np.zeros(n)\n",
    "initial_b = 0.\n",
    "cost = compute_cost(X_train,y_train,initial_w,initial_b)\n",
    "print('Cost at initial w and b (zeros): {:.3f}'.format(cost))"
   ]
  },
  {
   "cell_type": "code",
   "execution_count": 11,
   "id": "2970c744-942e-4fa4-8408-e5710761ef23",
   "metadata": {},
   "outputs": [
    {
     "name": "stdout",
     "output_type": "stream",
     "text": [
      "Cost at initial w and b: 0.218\n"
     ]
    }
   ],
   "source": [
    "m,n = X_train.shape\n",
    "\n",
    "initial_w = np.array([0.2, 0.2])\n",
    "initial_b = -24\n",
    "cost = compute_cost(X_train,y_train,initial_w,initial_b)\n",
    "print('Cost at initial w and b: {:.3f}'.format(cost))"
   ]
  },
  {
   "cell_type": "markdown",
   "id": "334c5ed7-1e01-46c3-a4db-345afca4f7c2",
   "metadata": {},
   "source": [
    "### 2.5 Gradient for logistic regression\n"
   ]
  },
  {
   "cell_type": "markdown",
   "id": "5b90b4c9-8409-4ba4-ba1c-d22a5a922108",
   "metadata": {},
   "source": [
    "\n",
    "The gradient for logistic regression.\n",
    "\n",
    "The gradient descent algorithm is:\n",
    "\n",
    "$$\\begin{align*}& \\text{repeat until convergence:} \\; \\lbrace \\newline \\; & b := b -  \\alpha \\frac{\\partial J(\\mathbf{w},b)}{\\partial b} \\newline       \\; & w_j := w_j -  \\alpha \\frac{\\partial J(\\mathbf{w},b)}{\\partial w_j} \\tag{1}  \\; & \\text{for j := 0..n-1}\\newline & \\rbrace\\end{align*}$$\n",
    "\n",
    "where, parameters $b$, $w_j$ are all updated simultaniously.\n",
    "\n",
    "`compute_gradient` function to compute\n",
    "$\\begin{align*} \\frac{\\partial J(\\mathbf{w},b)}{\\partial b} , \\frac{\\partial J(\\mathbf{w},w_j)}{\\partial w_j} \\end{align*}$\n",
    "\n",
    "$$\n",
    "\\frac{\\partial J(\\mathbf{w},b)}{\\partial b}  = \\frac{1}{m} \\sum\\limits_{i = 0}^{m-1} (f_{\\mathbf{w},b}(\\mathbf{x}^{(i)}) - \\mathbf{y}^{(i)}) \\tag{2}\n",
    "$$\n",
    "$$\n",
    "\\frac{\\partial J(\\mathbf{w},b)}{\\partial w_j}  = \\frac{1}{m} \\sum\\limits_{i = 0}^{m-1} (f_{\\mathbf{w},b}(\\mathbf{x}^{(i)}) - \\mathbf{y}^{(i)})x_{j}^{(i)} \\tag{3}\n",
    "$$"
   ]
  },
  {
   "cell_type": "code",
   "execution_count": 12,
   "id": "a699d4a4-4fab-42bc-be01-ed984756c79b",
   "metadata": {},
   "outputs": [],
   "source": [
    "def compute_gradient(X, y, w, b):\n",
    "    \"\"\"\n",
    "    Computes the gradient for logistic regression \n",
    " \n",
    "    Args:\n",
    "      X : (ndarray Shape (m,n)) data, m examples by n features\n",
    "      y : (ndarray Shape (m,))  target value \n",
    "      w : (ndarray Shape (n,))  values of parameters of the model      \n",
    "      b : (scalar)              value of bias parameter of the model\n",
    "\n",
    "    Returns\n",
    "      dj_dw : (ndarray Shape (n,)) The gradient of the cost w.r.t. the parameters w. \n",
    "      dj_db : (scalar)             The gradient of the cost w.r.t. the parameter b. \n",
    "    \"\"\"\n",
    "    m,n = X.shape\n",
    "    dj_dw = np.zeros(n)\n",
    "    dj_db = 0.\n",
    "\n",
    "    for i in range(m):\n",
    "        z_i = np.dot(X[i],w)+b\n",
    "        f_xi = sigmoid(z_i)\n",
    "        err_i = f_xi - y[i]\n",
    "        \n",
    "        for j in range(n):\n",
    "            dj_dw[j] += err_i * X[i,j]\n",
    "        dj_db += err_i\n",
    "\n",
    "    dj_dw /= m\n",
    "    dj_db /= m\n",
    "\n",
    "    return dj_db,dj_dw"
   ]
  },
  {
   "cell_type": "code",
   "execution_count": 13,
   "id": "3564b76c-2470-473a-bacd-65651a9c0577",
   "metadata": {},
   "outputs": [
    {
     "name": "stdout",
     "output_type": "stream",
     "text": [
      "dj_db at initial w and b (zeros):-0.1\n",
      "dj_dw at initial w and b (zeros):[-12.00921658929115, -11.262842205513591]\n"
     ]
    }
   ],
   "source": [
    "# Compute and display gradient with w and b initialized to zeros\n",
    "initial_w = np.zeros(n)\n",
    "initial_b = 0.\n",
    "\n",
    "dj_db, dj_dw = compute_gradient(X_train, y_train, initial_w, initial_b)\n",
    "print(f'dj_db at initial w and b (zeros):{dj_db}' )\n",
    "print(f'dj_dw at initial w and b (zeros):{dj_dw.tolist()}' )"
   ]
  },
  {
   "cell_type": "code",
   "execution_count": 14,
   "id": "786d89c2-5b26-4fb7-944a-1d652f68cd4b",
   "metadata": {},
   "outputs": [
    {
     "name": "stdout",
     "output_type": "stream",
     "text": [
      "dj_db at test w and b: -0.5999999999999206\n",
      "dj_dw at test w and b: [-44.831353617946704, -44.373841249569615]\n"
     ]
    }
   ],
   "source": [
    "# Compute and display cost and gradient with non-zero w and b\n",
    "test_w = np.array([ 0.2, -1])\n",
    "test_b = -10\n",
    "dj_db, dj_dw  = compute_gradient(X_train, y_train, test_w, test_b)\n",
    "\n",
    "print('dj_db at test w and b:', dj_db)\n",
    "print('dj_dw at test w and b:', dj_dw.tolist())"
   ]
  },
  {
   "cell_type": "markdown",
   "id": "36590162-afb5-4031-9f03-c81ccb675352",
   "metadata": {},
   "source": [
    "### 2.6 Learning parameters using gradient descent \n",
    "you will now find the optimal parameters of a logistic regression model by using gradient descent. "
   ]
  },
  {
   "cell_type": "code",
   "execution_count": 15,
   "id": "000138b5-c4eb-4b89-ae2f-0598ce046ded",
   "metadata": {},
   "outputs": [],
   "source": [
    "def gradient_descent(X, y, w_in, b_in, cost_function, gradient_function, alpha, num_iters, lambda_): \n",
    "    \"\"\"\n",
    "    Performs batch gradient descent to learn theta. Updates theta by taking \n",
    "    num_iters gradient steps with learning rate alpha\n",
    "    \n",
    "    Args:\n",
    "      X :    (ndarray Shape (m, n) data, m examples by n features\n",
    "      y :    (ndarray Shape (m,))  target value \n",
    "      w_in : (ndarray Shape (n,))  Initial values of parameters of the model\n",
    "      b_in : (scalar)              Initial value of parameter of the model\n",
    "      cost_function :              function to compute cost\n",
    "      gradient_function :          function to compute gradient\n",
    "      alpha : (float)              Learning rate\n",
    "      num_iters : (int)            number of iterations to run gradient descent\n",
    "      lambda_ : (scalar, float)    regularization constant\n",
    "      \n",
    "    Returns:\n",
    "      w : (ndarray Shape (n,)) Updated values of parameters of the model after\n",
    "          running gradient descent\n",
    "      b : (scalar)                Updated value of parameter of the model after\n",
    "          running gradient descent\n",
    "    \"\"\"\n",
    "    \n",
    "    # number of training examples\n",
    "    m = len(X)\n",
    "    \n",
    "    # An array to store cost J and w's at each iteration primarily for graphing later\n",
    "    J_history = []\n",
    "    w_history = []\n",
    "    \n",
    "    for i in range(num_iters):\n",
    "\n",
    "        # Calculate the gradient and update the parameters\n",
    "        dj_db, dj_dw = compute_gradient(X, y, w_in, b_in)   \n",
    "\n",
    "        # Update Parameters using w, b, alpha and gradient\n",
    "        w_in = w_in - alpha * dj_dw               \n",
    "        b_in = b_in - alpha * dj_db              \n",
    "       \n",
    "        # Save cost J at each iteration\n",
    "        if i<100000:      # prevent resource exhaustion \n",
    "            cost =  compute_cost(X, y, w_in, b_in)\n",
    "            J_history.append(cost)\n",
    "\n",
    "        # Print cost every at intervals 10 times or as many iterations if < 10\n",
    "        if i% math.ceil(num_iters/10) == 0 or i == (num_iters-1):\n",
    "            w_history.append(w_in)\n",
    "            print(f\"Iteration {i:4}: Cost {float(J_history[-1]):8.2f}   \")\n",
    "        \n",
    "    return w_in, b_in, J_history, w_history #return w and J,w history for graphing"
   ]
  },
  {
   "cell_type": "code",
   "execution_count": 16,
   "id": "117e76b1-0d3b-43c1-b382-a871605f1801",
   "metadata": {},
   "outputs": [
    {
     "name": "stdout",
     "output_type": "stream",
     "text": [
      "Iteration    0: Cost     0.96   \n",
      "Iteration 1000: Cost     0.31   \n",
      "Iteration 2000: Cost     0.30   \n",
      "Iteration 3000: Cost     0.30   \n",
      "Iteration 4000: Cost     0.30   \n",
      "Iteration 5000: Cost     0.30   \n",
      "Iteration 6000: Cost     0.30   \n",
      "Iteration 7000: Cost     0.30   \n",
      "Iteration 8000: Cost     0.30   \n",
      "Iteration 9000: Cost     0.30   \n",
      "Iteration 9999: Cost     0.30   \n"
     ]
    }
   ],
   "source": [
    "# test gradient_descent\n",
    "np.random.seed(1)\n",
    "initial_w = 0.01 * (np.random.rand(2) - 0.5)\n",
    "initial_b = -8\n",
    "\n",
    "# Some gradient descent settings\n",
    "iterations = 10000\n",
    "alpha = 0.001\n",
    "\n",
    "w,b, J_history,_ = gradient_descent(X_train ,y_train, initial_w, initial_b, \n",
    "                                   compute_cost, compute_gradient, alpha, iterations, 0)"
   ]
  },
  {
   "cell_type": "markdown",
   "id": "a9026a6b-a0ed-4f28-9b42-0cbd87b83a18",
   "metadata": {},
   "source": [
    "### 2.7 Plotting the decision boundary\n",
    "Now we use w, b that find by gradient descent to plot a decision boundary.\n"
   ]
  },
  {
   "cell_type": "code",
   "execution_count": 17,
   "id": "2def4e55-94ac-42cc-b791-8344d6222f89",
   "metadata": {},
   "outputs": [
    {
     "data": {
      "image/png": "[encoded data removed]",
      "text/plain": [
       "<Figure size 640x480 with 1 Axes>"
      ]
     },
     "metadata": {},
     "output_type": "display_data"
    }
   ],
   "source": [
    "# first plot data again\n",
    "pos = y_train==1\n",
    "neg = y_train==0\n",
    "\n",
    "plt.scatter(X_train[pos,0], X_train[pos,1], marker='+', c='b', label='y=1')\n",
    "plt.scatter(X_train[neg,0], X_train[neg,1], marker='o', c='r', label='y=0')\n",
    "\n",
    "plt.xlabel('Exam 1 score')\n",
    "plt.ylabel('Exam 2 score')\n",
    "plt.legend(loc='upper right')\n",
    "\n",
    "# plt.plot(-w/b)\n",
    "\n",
    "# w1.x[:,0] + w2.x[:,1] = -b\n",
    "yd = -(b / w[1]) - (w[0] / w[1]) * X_train[:, 1]\n",
    "plt.plot(X_train[:,1], yd, 'k', lw=1, ls='--')\n",
    "plt.show()"
   ]
  },
  {
   "cell_type": "markdown",
   "id": "d05b217b-6809-47cc-85a5-c96f3fbfbdf9",
   "metadata": {},
   "source": [
    "#### 2.7.1 predict using decision boundary\n",
    "* Now we tell if data point above that decision boundary, then $y=1$ else $y=0$\n",
    "* we have the equation:\n",
    "  $$ \\begin{align*} f{(x)} = \\mathbf{w} \\cdot \\mathbf{X} + b \\end{align*}$$\n",
    "  Now put $\\mathbf{X}$ in that equation and if $ f{(x)} >= 0 $ then $y=1$ and student admitted, else $y=0$ and student not admitted."
   ]
  },
  {
   "cell_type": "code",
   "execution_count": 19,
   "id": "782b4fa9-f71c-4405-83cb-e841450adada",
   "metadata": {},
   "outputs": [
    {
     "name": "stdout",
     "output_type": "stream",
     "text": [
      "accuracy of model =  0.92\n"
     ]
    }
   ],
   "source": [
    "f_x = (np.dot(X_train,w)) + b\n",
    "predicted_labels = np.where(f_x >= 0, 1, 0) \n",
    "\n",
    "acc = predicted_labels == y_train\n",
    "num_true_label = np.count_nonzero(acc)\n",
    "\n",
    "accuracy = num_true_label/len(y_train)\n",
    "print('accuracy of model = ', accuracy)"
   ]
  },
  {
   "cell_type": "markdown",
   "id": "46643014-5e5a-4ec4-a141-923d289d2d99",
   "metadata": {},
   "source": [
    "#### 2.7.2 predict using thershhold\n",
    "The `predict` function produce `1` or `0` predictions given a dataset and a learned parameter vector $w$ and $b$.\n",
    "- First you need to compute the prediction from the model $f(x^{(i)}) = g(w \\cdot x^{(i)} + b)$ for every example \n",
    "- We interpret the output of the model ($f(x^{(i)})$) as the probability that $y^{(i)}=1$ given $x^{(i)}$ and parameterized by $w$.\n",
    "- Therefore, to get a final prediction ($y^{(i)}=0$ or $y^{(i)}=1$) from the logistic regression model, you can use the following heuristic -\n",
    "\n",
    "  if $f(x^{(i)}) >= 0.5$, predict $y^{(i)}=1$\n",
    "  \n",
    "  if $f(x^{(i)}) < 0.5$, predict $y^{(i)}=0$"
   ]
  },
  {
   "cell_type": "code",
   "execution_count": 20,
   "id": "108de725-16db-42d6-9f20-b11433cfa190",
   "metadata": {},
   "outputs": [],
   "source": [
    "# UNQ_C4\n",
    "# GRADED FUNCTION: predict\n",
    "\n",
    "def predict(X, w, b): \n",
    "    \"\"\"\n",
    "    Predict whether the label is 0 or 1 using learned logistic\n",
    "    regression parameters w\n",
    "    \n",
    "    Args:\n",
    "      X : (ndarray Shape (m,n)) data, m examples by n features\n",
    "      w : (ndarray Shape (n,))  values of parameters of the model      \n",
    "      b : (scalar)              value of bias parameter of the model\n",
    "\n",
    "    Returns:\n",
    "      p : (ndarray (m,)) The predictions for X using a threshold at 0.5\n",
    "    \"\"\"\n",
    "    # number of training examples\n",
    "    m, n = X.shape   \n",
    "    p = np.zeros(m)\n",
    "   \n",
    "    ### START CODE HERE ### \n",
    "    # Loop over each example\n",
    "    for i in range(m):   \n",
    "        z_wb = 0\n",
    "        # Loop over each feature\n",
    "        for j in range(n): \n",
    "            # Add the corresponding term to z_wb\n",
    "            z_wb += w[j] * X[i][j]\n",
    "        \n",
    "        # Add bias term \n",
    "        z_wb += b\n",
    "        \n",
    "        # Calculate the prediction for this example\n",
    "        f_wb = sigmoid(z_wb)\n",
    "\n",
    "        # Apply the threshold\n",
    "        p[i] = 1 if f_wb >= 0.5 else 0\n",
    "        \n",
    "    ### END CODE HERE ### \n",
    "    return p"
   ]
  },
  {
   "cell_type": "code",
   "execution_count": 21,
   "id": "72867405-ef1e-494a-b2fa-24661f8309b2",
   "metadata": {},
   "outputs": [
    {
     "name": "stdout",
     "output_type": "stream",
     "text": [
      "Output of predict: shape (4,), value [0. 1. 1. 1.]\n"
     ]
    }
   ],
   "source": [
    "np.random.seed(1)\n",
    "tmp_w = np.random.randn(2)\n",
    "tmp_b = 0.3\n",
    "tmp_X = np.random.randn(4, 2) - 0.5\n",
    "\n",
    "tmp_p = predict(tmp_X, tmp_w, tmp_b)\n",
    "print(f'Output of predict: shape {tmp_p.shape}, value {tmp_p}')"
   ]
  },
  {
   "cell_type": "code",
   "execution_count": 22,
   "id": "39a450ee-9d69-4708-a268-050c191d20b8",
   "metadata": {},
   "outputs": [
    {
     "name": "stdout",
     "output_type": "stream",
     "text": [
      "Train Accuracy: 92.000000\n"
     ]
    }
   ],
   "source": [
    "#Compute accuracy on our training set\n",
    "p = predict(X_train, w,b)\n",
    "print('Train Accuracy: %f'%(np.mean(p == y_train) * 100))"
   ]
  },
  {
   "cell_type": "markdown",
   "id": "f676ce7b-490e-4dc2-9ce8-52fe9ecee00b",
   "metadata": {},
   "source": [
    "## 3 - Regularized Logistic Regression\n",
    "\n",
    "In this part of the exercise, you will implement regularized logistic regression to predict whether microchips from a fabrication plant passes quality assurance (QA). During QA, each microchip goes through various tests to ensure it is functioning correctly. \n",
    "\n",
    "### 3.1 Problem Statement\n",
    "\n",
    "Suppose you are the product manager of the factory and you have the test results for some microchips on two different tests. \n",
    "- From these two tests, you would like to determine whether the microchips should be accepted or rejected. \n",
    "- To help you make the decision, you have a dataset of test results on past microchips, from which you can build a logistic regression model.\n",
    "\n",
    "### 3.2 Loading and visualizing the data\n",
    "\n",
    "Similar to previous parts of this exercise, let's start by loading the dataset for this task and visualizing it. \n",
    "\n",
    "- The `load_dataset()` function shown below loads the data into variables `X_train` and `y_train`\n",
    "  - `X_train` contains the test results for the microchips from two tests\n",
    "  - `y_train` contains the results of the QA  \n",
    "      - `y_train = 1` if the microchip was accepted \n",
    "      - `y_train = 0` if the microchip was rejected \n",
    "  - Both `X_train` and `y_train` are numpy arrays."
   ]
  },
  {
   "cell_type": "code",
   "execution_count": 23,
   "id": "5295681d-faaf-496b-b8a6-9163bc5583f9",
   "metadata": {},
   "outputs": [],
   "source": [
    "data = np.loadtxt('ex2data2.txt', delimiter=',')\n",
    "X_train = data[:,:2]\n",
    "y_train = data[:,2]"
   ]
  },
  {
   "cell_type": "code",
   "execution_count": 24,
   "id": "e035353d-30ec-4ea0-8fcc-75b613262bb6",
   "metadata": {},
   "outputs": [
    {
     "name": "stdout",
     "output_type": "stream",
     "text": [
      "X_train: [[ 0.051267  0.69956 ]\n",
      " [-0.092742  0.68494 ]\n",
      " [-0.21371   0.69225 ]\n",
      " [-0.375     0.50219 ]\n",
      " [-0.51325   0.46564 ]]\n",
      "Type of X_train:  <class 'numpy.ndarray'>\n",
      "y_train: [1. 1. 1. 1. 1.]\n",
      "Type of y_train:  <class 'numpy.ndarray'>\n"
     ]
    }
   ],
   "source": [
    "print('X_train:',X_train[:5])\n",
    "print('Type of X_train: ', type(X_train))\n",
    "\n",
    "print('y_train:',y_train[:5])\n",
    "print('Type of y_train: ', type(y_train))"
   ]
  },
  {
   "cell_type": "code",
   "execution_count": 25,
   "id": "1212288d-a1f5-4d29-ad91-bef6dd977768",
   "metadata": {},
   "outputs": [
    {
     "name": "stdout",
     "output_type": "stream",
     "text": [
      "The shape of X_train is: (118, 2)\n",
      "The shape of y_train is: (118,)\n",
      "We have m = 118 training examples\n"
     ]
    }
   ],
   "source": [
    "print ('The shape of X_train is: ' + str(X_train.shape))\n",
    "print ('The shape of y_train is: ' + str(y_train.shape))\n",
    "print ('We have m = %d training examples' % (len(y_train)))"
   ]
  },
  {
   "cell_type": "markdown",
   "id": "f2003c94-e522-41f5-8379-e15f293fdfd5",
   "metadata": {},
   "source": [
    "#### Visualize data"
   ]
  },
  {
   "cell_type": "code",
   "execution_count": 31,
   "id": "0a542c2c-5527-49f2-816b-2c956751c048",
   "metadata": {},
   "outputs": [
    {
     "data": {
      "image/png": "[encoded data removed]",
      "text/plain": [
       "<Figure size 640x480 with 1 Axes>"
      ]
     },
     "metadata": {},
     "output_type": "display_data"
    }
   ],
   "source": [
    "pos = y_train==1\n",
    "neg = y_train==0\n",
    "\n",
    "plt.scatter(X_train[pos,0],X_train[pos,1],marker='+',color='y',label='Accepted')\n",
    "plt.scatter(X_train[neg,0],X_train[neg,1],marker='o',color='r',label='Rejected')\n",
    "\n",
    "plt.ylabel('Microchip Test 2') \n",
    "plt.xlabel('Microchip Test 1') \n",
    "plt.legend(loc=\"upper right\")\n",
    "plt.show()"
   ]
  },
  {
   "cell_type": "markdown",
   "id": "982856f5-e9ca-492b-bde9-228fde8de540",
   "metadata": {},
   "source": [
    "Figure shows that our dataset cannot be separated into positive and negative examples by a straight-line through the plot. Therefore, a straight forward application of logistic regression will not perform well on this dataset since logistic regression will only be able to find a linear decision boundary.\n"
   ]
  },
  {
   "cell_type": "markdown",
   "id": "3b056fef-9336-43f0-8995-d88ea2c51dfe",
   "metadata": {},
   "source": [
    "<a name=\"3.3\"></a>\n",
    "### 3.3 Feature mapping\n",
    "\n",
    "One way to fit the data better is to create more features from each data point. In the provided function `map_feature`, we will map the features into all polynomial terms of $x_1$ and $x_2$ up to the sixth power.\n",
    "\n",
    "$$\\mathrm{map\\_feature}(x) = \n",
    "\\left[\\begin{array}{c}\n",
    "x_1\\\\\n",
    "x_2\\\\\n",
    "x_1^2\\\\\n",
    "x_1 x_2\\\\\n",
    "x_2^2\\\\\n",
    "x_1^3\\\\\n",
    "\\vdots\\\\\n",
    "x_1 x_2^5\\\\\n",
    "x_2^6\\end{array}\\right]$$\n",
    "\n",
    "As a result of this mapping, our vector of two features (the scores on two QA tests) has been transformed into a 27-dimensional vector. \n",
    "\n",
    "- A logistic regression classifier trained on this higher-dimension feature vector will have a more complex decision boundary and will be nonlinear when drawn in our 2-dimensional plot. "
   ]
  },
  {
   "cell_type": "code",
   "execution_count": 50,
   "id": "00e99b18-027e-4014-9a80-87a5ecad15e6",
   "metadata": {},
   "outputs": [],
   "source": [
    "X1 = np.atleast_1d(X_train[:,0])\n",
    "X2 = np.atleast_1d(X_train[:,1])\n",
    "degree = 6\n",
    "out = []\n",
    "for i in range(1, degree+1):\n",
    "    for j in range(i + 1):\n",
    "        out.append((X1**(i-j) * (X2**j)))\n",
    "X_mapped = np.stack(out, axis=1)"
   ]
  },
  {
   "cell_type": "code",
   "execution_count": 51,
   "id": "78cb8cae-917a-4c9b-8fa1-40086d0b30a7",
   "metadata": {},
   "outputs": [
    {
     "name": "stdout",
     "output_type": "stream",
     "text": [
      "Original shape of data: (118, 2)\n",
      "Shape after feature mapping: (118, 27)\n",
      "\n",
      "X_train[0]: [0.051267 0.69956 ]\n",
      "mapped X_train[0]: [5.12670000e-02 6.99560000e-01 2.62830529e-03 3.58643425e-02\n",
      " 4.89384194e-01 1.34745327e-04 1.83865725e-03 2.50892595e-02\n",
      " 3.42353606e-01 6.90798869e-06 9.42624411e-05 1.28625106e-03\n",
      " 1.75514423e-02 2.39496889e-01 3.54151856e-07 4.83255257e-06\n",
      " 6.59422333e-05 8.99809795e-04 1.22782870e-02 1.67542444e-01\n",
      " 1.81563032e-08 2.47750473e-07 3.38066048e-06 4.61305487e-05\n",
      " 6.29470940e-04 8.58939846e-03 1.17205992e-01]\n"
     ]
    }
   ],
   "source": [
    "print(\"Original shape of data:\", X_train.shape)\n",
    "print(\"Shape after feature mapping:\", X_mapped.shape)\n",
    "\n",
    "print(\"\\nX_train[0]:\", X_train[0])\n",
    "print(\"mapped X_train[0]:\", X_mapped[0])"
   ]
  },
  {
   "cell_type": "markdown",
   "id": "c0c917f3-568d-4cb4-b5e4-0f397585755b",
   "metadata": {},
   "source": [
    "While the feature mapping allows us to build a more expressive classifier, it is also more susceptible to overfitting. In the next parts of the exercise, you will implement regularized logistic regression to fit the data and also see for yourself how regularization can help combat the overfitting problem.\n",
    "\n",
    "### 3.4 Cost function for regularized logistic regression\n",
    "\n",
    "In this part, you will implement the cost function for regularized logistic regression.\n",
    "\n",
    "Recall that for regularized logistic regression, the cost function is of the form\n",
    "$$J(\\mathbf{w},b) = \\frac{1}{m}  \\sum_{i=0}^{m-1} \\left[ -y^{(i)} \\log\\left(f_{\\mathbf{w},b}\\left( \\mathbf{x}^{(i)} \\right) \\right) - \\left( 1 - y^{(i)}\\right) \\log \\left( 1 - f_{\\mathbf{w},b}\\left( \\mathbf{x}^{(i)} \\right) \\right) \\right] + \\frac{\\lambda}{2m}  \\sum_{j=0}^{n-1} w_j^2$$\n",
    "\n",
    "Compare this to the cost function without regularization (which you implemented above), which is of the form \n",
    "\n",
    "$$ J(\\mathbf{w}.b) = \\frac{1}{m}\\sum_{i=0}^{m-1} \\left[ (-y^{(i)} \\log\\left(f_{\\mathbf{w},b}\\left( \\mathbf{x}^{(i)} \\right) \\right) - \\left( 1 - y^{(i)}\\right) \\log \\left( 1 - f_{\\mathbf{w},b}\\left( \\mathbf{x}^{(i)} \\right) \\right)\\right]$$\n",
    "\n",
    "The difference is the regularization term, which is $$\\frac{\\lambda}{2m}  \\sum_{j=0}^{n-1} w_j^2$$ \n",
    "Note that the $b$ parameter is not regularized."
   ]
  },
  {
   "cell_type": "code",
   "execution_count": 56,
   "id": "18cfb4ee-af6a-44ee-8db4-462f941c90f9",
   "metadata": {},
   "outputs": [],
   "source": [
    "def compute_cost_regul(X, y, w, b, lambda_ = 1):\n",
    "    \"\"\"\n",
    "    Computes the cost over all examples\n",
    "    Args:\n",
    "      X : (ndarray Shape (m,n)) data, m examples by n features\n",
    "      y : (ndarray Shape (m,))  target value \n",
    "      w : (ndarray Shape (n,))  values of parameters of the model      \n",
    "      b : (scalar)              value of bias parameter of the model\n",
    "      lambda_ : (scalar, float) Controls amount of regularization\n",
    "    Returns:\n",
    "      total_cost : (scalar)     cost \n",
    "    \"\"\"\n",
    "\n",
    "    m, n = X.shape\n",
    "\n",
    "    cost_without_regul = compute_cost(X,y,w,b)\n",
    "    regulized_term = 0.\n",
    "\n",
    "    for j in range(n):\n",
    "        regulized_term += w[j]**2\n",
    "    regulized_term = (lambda_ / (2*m)) * regulized_term\n",
    "\n",
    "    total_cost = cost_without_regul + regulized_term\n",
    "    return total_cost"
   ]
  },
  {
   "cell_type": "code",
   "execution_count": 57,
   "id": "61e5c7eb-979b-4cf1-bfe4-7d1b12a33428",
   "metadata": {},
   "outputs": [
    {
     "name": "stdout",
     "output_type": "stream",
     "text": [
      "Regularized cost : 0.6618252552483948\n"
     ]
    }
   ],
   "source": [
    "np.random.seed(1)\n",
    "initial_w = np.random.rand(mapped_X.shape[1]) - 0.5\n",
    "initial_b = 0.5\n",
    "lambda_ = 0.5\n",
    "cost = compute_cost_regul(X_mapped, y_train, initial_w, initial_b, lambda_)\n",
    "\n",
    "print(\"Regularized cost :\", cost)"
   ]
  },
  {
   "cell_type": "markdown",
   "id": "695aaabe-f056-4e6e-8bd6-98189152d170",
   "metadata": {},
   "source": [
    "<a name=\"3.5\"></a>\n",
    "### 3.5 Gradient for regularized logistic regression\n",
    "\n",
    "In this section, you will implement the gradient for regularized logistic regression.\n",
    "\n",
    "\n",
    "The gradient of the regularized cost function has two components. The first, $\\frac{\\partial J(\\mathbf{w},b)}{\\partial b}$ is a scalar, the other is a vector with the same shape as the parameters $\\mathbf{w}$, where the $j^\\mathrm{th}$ element is defined as follows:\n",
    "\n",
    "$$\\frac{\\partial J(\\mathbf{w},b)}{\\partial b} = \\frac{1}{m}  \\sum_{i=0}^{m-1} (f_{\\mathbf{w},b}(\\mathbf{x}^{(i)}) - y^{(i)})  $$\n",
    "\n",
    "$$\\frac{\\partial J(\\mathbf{w},b)}{\\partial w_j} = \\left( \\frac{1}{m}  \\sum_{i=0}^{m-1} (f_{\\mathbf{w},b}(\\mathbf{x}^{(i)}) - y^{(i)}) x_j^{(i)} \\right) + \\frac{\\lambda}{m} w_j  \\quad\\, \\mbox{for $j=0...(n-1)$}$$\n",
    "\n",
    "Compare this to the gradient of the cost function without regularization (which you implemented above), which is of the form \n",
    "$$\n",
    "\\frac{\\partial J(\\mathbf{w},b)}{\\partial b}  = \\frac{1}{m} \\sum\\limits_{i = 0}^{m-1} (f_{\\mathbf{w},b}(\\mathbf{x}^{(i)}) - \\mathbf{y}^{(i)}) \\tag{2}\n",
    "$$\n",
    "$$\n",
    "\\frac{\\partial J(\\mathbf{w},b)}{\\partial w_j}  = \\frac{1}{m} \\sum\\limits_{i = 0}^{m-1} (f_{\\mathbf{w},b}(\\mathbf{x}^{(i)}) - \\mathbf{y}^{(i)})x_{j}^{(i)} \\tag{3}\n",
    "$$\n",
    "\n",
    "\n",
    "As you can see,$\\frac{\\partial J(\\mathbf{w},b)}{\\partial b}$ is the same, the difference is the following term in $\\frac{\\partial J(\\mathbf{w},b)}{\\partial w}$, which is $$\\frac{\\lambda}{m} w_j  \\quad\\, \\mbox{for $j=0...(n-1)$}$$ \n",
    "\n",
    "\n",
    "\n"
   ]
  },
  {
   "cell_type": "code",
   "execution_count": 59,
   "id": "908e575a-75e9-42d1-a408-807e0e8d3aed",
   "metadata": {},
   "outputs": [],
   "source": [
    "# UNQ_C6\n",
    "def compute_gradient_regul(X, y, w, b, lambda_ = 1): \n",
    "    \"\"\"\n",
    "    Computes the gradient for logistic regression with regularization\n",
    " \n",
    "    Args:\n",
    "      X : (ndarray Shape (m,n)) data, m examples by n features\n",
    "      y : (ndarray Shape (m,))  target value \n",
    "      w : (ndarray Shape (n,))  values of parameters of the model      \n",
    "      b : (scalar)              value of bias parameter of the model\n",
    "      lambda_ : (scalar,float)  regularization constant\n",
    "    Returns\n",
    "      dj_db : (scalar)             The gradient of the cost w.r.t. the parameter b. \n",
    "      dj_dw : (ndarray Shape (n,)) The gradient of the cost w.r.t. the parameters w. \n",
    "\n",
    "    \"\"\"\n",
    "    m, n = X.shape\n",
    "    \n",
    "    dj_db, dj_dw = compute_gradient(X, y, w, b)\n",
    "\n",
    "    ### START CODE HERE ###     \n",
    "    for j in range(n):\n",
    "        dj_dw[j] += (lambda_ / m) * w[j]\n",
    "    \n",
    "    ### END CODE HERE ###         \n",
    "        \n",
    "    return dj_db, dj_dw"
   ]
  },
  {
   "cell_type": "code",
   "execution_count": 61,
   "id": "2bc7571f-59bc-488d-adcb-18db5b43382f",
   "metadata": {},
   "outputs": [
    {
     "name": "stdout",
     "output_type": "stream",
     "text": [
      "dj_db: 0.07138288792343662\n",
      "First few elements of regularized dj_dw:\n",
      " [-0.010386028450548701, 0.011409852883280122, 0.0536273463274574, 0.003140278267313462]\n"
     ]
    }
   ],
   "source": [
    "np.random.seed(1) \n",
    "initial_w  = np.random.rand(X_mapped.shape[1]) - 0.5 \n",
    "initial_b = 0.5\n",
    " \n",
    "lambda_ = 0.5\n",
    "dj_db, dj_dw = compute_gradient_reg(X_mapped, y_train, initial_w, initial_b, lambda_)\n",
    "\n",
    "print(f\"dj_db: {dj_db}\", )\n",
    "print(f\"First few elements of regularized dj_dw:\\n {dj_dw[:4].tolist()}\", )\n"
   ]
  },
  {
   "cell_type": "markdown",
   "id": "73b29b9c-6f24-46a4-98d2-a8188047a6c6",
   "metadata": {},
   "source": [
    "<a name=\"3.6\"></a>\n",
    "### 3.6 Learning parameters using gradient descent\n",
    "\n",
    "Similar to the previous parts, you will use your gradient descent function implemented above to learn the optimal parameters $w$,$b$. \n",
    "- If you have completed the cost and gradient for regularized logistic regression correctly, you should be able to step through the next cell to learn the parameters $w$. \n",
    "- After training our parameters, we will use it to plot the decision boundary. \n"
   ]
  },
  {
   "cell_type": "code",
   "execution_count": 63,
   "id": "65391c03-d272-4ba4-9537-1a1b8667460f",
   "metadata": {},
   "outputs": [
    {
     "name": "stdout",
     "output_type": "stream",
     "text": [
      "Iteration    0: Cost     0.72   \n",
      "Iteration 1000: Cost     0.59   \n",
      "Iteration 2000: Cost     0.56   \n",
      "Iteration 3000: Cost     0.53   \n",
      "Iteration 4000: Cost     0.51   \n",
      "Iteration 5000: Cost     0.50   \n",
      "Iteration 6000: Cost     0.48   \n",
      "Iteration 7000: Cost     0.47   \n",
      "Iteration 8000: Cost     0.46   \n",
      "Iteration 9000: Cost     0.45   \n",
      "Iteration 9999: Cost     0.44   \n"
     ]
    }
   ],
   "source": [
    "# Initialize fitting parameters\n",
    "np.random.seed(1)\n",
    "initial_w = np.random.rand(X_mapped.shape[1])-0.5\n",
    "initial_b = 1.\n",
    "\n",
    "# Set regularization parameter lambda_ (you can try varying this)\n",
    "lambda_ = 0.01    \n",
    "\n",
    "# Some gradient descent settings\n",
    "iterations = 10000\n",
    "alpha = 0.01\n",
    "\n",
    "w,b, J_history,_ = gradient_descent(X_mapped, y_train, initial_w, initial_b, \n",
    "                                    compute_cost_regul, compute_gradient_regul, \n",
    "                                    alpha, iterations, lambda_)"
   ]
  },
  {
   "cell_type": "markdown",
   "id": "ff5f04af-0f4e-4e79-83c5-5a3a3b100c21",
   "metadata": {},
   "source": [
    "<a name=\"3.7\"></a>\n",
    "### 3.7 Plotting the decision boundary\n",
    "To help you visualize the model learned by this classifier, we will plot the (non-linear) decision boundary that separates the positive and negative examples. \n",
    "\n",
    "- We plotted the non-linear decision boundary by computing the classifier’s predictions on an evenly spaced grid and then drew a contour plot of where the predictions change from y = 0 to y = 1.\n",
    "\n",
    "- After learning the parameters $w$,$b$, the next step is to plot a decision boundary. "
   ]
  },
  {
   "cell_type": "code",
   "execution_count": null,
   "id": "4c83e439-3fa2-42b8-a102-403e88230d99",
   "metadata": {},
   "outputs": [],
   "source": []
  }
 ],
 "metadata": {
  "kernelspec": {
   "display_name": "Python 3 (ipykernel)",
   "language": "python",
   "name": "python3"
  },
  "language_info": {
   "codemirror_mode": {
    "name": "ipython",
    "version": 3
   },
   "file_extension": ".py",
   "mimetype": "text/x-python",
   "name": "python",
   "nbconvert_exporter": "python",
   "pygments_lexer": "ipython3",
   "version": "3.10.12"
  }
 },
 "nbformat": 4,
 "nbformat_minor": 5
}
